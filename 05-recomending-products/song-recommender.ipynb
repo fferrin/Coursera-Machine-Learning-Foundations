'''Fire up graphlab create'''

import graphlab

# Set product key on this computer. After running this cell, you will not need 
# to re-enter your product key. 
graphlab.product_key.set_product_key('product key')

# Limit number of worker processes. This preserves system memory, which prevents
hosted notebooks from crashing.
graphlab.set_runtime_config('GRAPHLAB_DEFAULT_NUM_PYLAMBDA_WORKERS', 4)


'''Load music data'''
song_data = graphlab.SFrame('song_data.gl/')


'''Explore data'''
song_data.head()


'''Showing the most popular songs in the dataset'''
graphlab.canvas.set_target('ipynb')
song_data['song'].show()
len(song_data)


'''Count number of unique users in the dataset'''
users = song_data['user_id'].unique()
len(users)


'''Create a song recommender'''
train_data, test_data = song_data.random_split(0.8, seed=0)


'''Simple popularity-based recommender'''
popularity_model = graphlab.popularity_recommender.create(train_data,
                                                         user_id='user_id',
                                                         item_id='song')
popularity_model.recommend(users=[users[0]])
popularity_model.recommend(users=[users[1]])


'''Build a song recommender with personalization'''
personalized_model = graphlab.item_similarity_recommender
                        .create(train_data,
                                user_id='user_id',
                                item_id='song')


'''Applying the personalized model to make song recommendations'''
personalized_model.recommend(users=[users[0]])
personalized_model.recommend(users=[users[1]])


'''We can also apply the model to find similar songs to any song in the
dataset'''
personalized_model.get_similar_items(['With Or Without You - U2'])
personalized_model
    .get_similar_items(['Chan Chan (Live) - Buena Vista Social Club'])


'''Quantitative comparison between the models'''
if graphlab.version[:3] >= "1.6":
    model_performance = graphlab.compare(test_data, 
                                         [popularity_model, personalized_model], 
                                         ser_sample=0.05)
    graphlab.show_comparison(model_performance,
                             [popularity_model, personalized_model])
else:
    %matplotlib inline
    model_performance = graphlab.recommender.util
                            .compare_models(test_data, 
                                            [popularity_model, 
                                             personalized_model],
                                             user_sample=0.05)

# 1. Which of the artists below have had the most unique users listening to 
# their songs?
kanye_west = song_data[song_data['artist'] == 'Kanye West']
foo_fighters = song_data[song_data['artist'] == 'Foo Fighters']
taylor_swift = song_data[song_data['artist'] == 'Taylor Swift']
lady_gaga = song_data[song_data['artist'] == 'Lady GaGa']

print "Kanye West:", len(kanye_west['user_id'].unique())
print "Foo Fighters:", len(foo_fighters['user_id'].unique())
print "Taylor Swift:", len(taylor_swift['user_id'].unique())
print "Lady GaGa:", len(lady_gaga['user_id'].unique())

# 2. Which of the artists below is the most popular artist, the one with highest 
# total listen_count, in the data set?
total_count = song_data.groupby(key_columns='artist', 
                                operations={'total_count':
                                    graphlab.aggregate.SUM('listen_count')})
total_count.sort('total_count', ascending=False)

# 3. Which of the artists below is the least popular artist, the one with 
# smallest total listen_count, in the data set?
total_count.sort('total_count')

# 4. Using the first 10,000 unique users only in the test data, use the 
# personalized_model learned on the training data to recommend 1 song to each 
# user. What’s the most recommended song?
subset_test_users = test_data['user_id'].unique()[0:10000]
personalized_model.recommend(subset_test_users, k=1)
most_recommended = song_data.groupby(key_columns='song', 
                                     operations={'count': 
                                        graphlab.aggregate.COUNT()})
most_recommended.sort('count', ascending=False)
