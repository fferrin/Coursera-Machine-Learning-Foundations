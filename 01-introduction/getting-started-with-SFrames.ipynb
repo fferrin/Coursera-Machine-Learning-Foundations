'''Fire up graphlab create'''
import graphlab

# Set product key on this computer. After running this cell, you will not need 
# to re-enter your product key. 
graphlab.product_key.set_product_key('product key')

# Limit number of worker processes. This preserves system memory, which prevents
# hosted notebooks from crashing.
graphlab.set_runtime_config('GRAPHLAB_DEFAULT_NUM_PYLAMBDA_WORKERS', 4)


'''Load a tabular data set'''
sf = graphlab.SFrame('people-example.csv')


'''SFrame basics'''
# we can view first few lines of table
sf
# view end of the table
sf.tail()


'''GraphLab Canvas'''
# .show() visualizes any data structure in GraphLab Create
# If you want Canvas visualization to show up on this notebook, add this line:
graphlab.canvas.set_target('ipynb')

# Most frequent items from <SArray>
sf['age'].show(view='Categorical')


'''Inspect columns of dataset'''
sf['Country']
sf['age']
sf['age'].mean()
sf['age'].max()


'''Create new columns in our SFrame'''
sf['Full Name'] = sf['First Name'] + ' ' + sf['Last Name']
sf['age'] * sf['age']


'''Use the apply function to do a advance transformation of our data'''
def transform_country(country):
    if country == 'USA':
        return 'United States'
    else:
        return country

transform_country('Brazil')
transform_country('Brasil')
transform_country('USA')

sf['Country'] = sf['Country'].apply(transform_country)
