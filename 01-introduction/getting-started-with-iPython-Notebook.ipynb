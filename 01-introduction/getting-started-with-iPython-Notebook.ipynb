'''Getting started with Python'''
print 'Hello World!'


'''Create some variables in Python'''
# int
i = 4
type(i)

# float
f = 4.1
type(f)

# boolean variable
b = True

s = "This is a string!"
print s


'''Advanced python types'''
# list
l = [3, 1, 2]
print l

# dictionary
d = {'foo':1, 'bar':2.3, 's':'my first dictionary'}
print d
# element of a dictionary
print d['foo']

# Python's null type
n = None
type(n)


'''Advanced printing'''
# Python is pretty good with strings
print "Our float value is %s. Our int value is %s." % (f, i)


'''Conditional statements in python'''
if i == 1 and f > 4:
    print "The value of i is 1 and f is greater than 4."
elif i > 4 or f > 4:
    print "i or f are both greater than 4."
else:
    print "both i and f are less than or equal to 4"


'''Conditional loops'''
for e in l:
    print e

counter = 6
while counter < 10:
    print counter
    counter += 1


'''Creating functions in Python'''
def add2(x):
    y = x + 2
    return y

i = 5
add2(i)

square = lambda x: x*x