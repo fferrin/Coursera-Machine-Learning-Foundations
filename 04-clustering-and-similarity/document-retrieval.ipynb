'''Fire up graphlab create'''

import graphlab

# Set product key on this computer. After running this cell, you will not need 
# to re-enter your product key. 
graphlab.product_key.set_product_key('product key')

# Limit number of worker processes. This preserves system memory, which prevents
hosted notebooks from crashing.
graphlab.set_runtime_config('GRAPHLAB_DEFAULT_NUM_PYLAMBDA_WORKERS', 4)


'''Load some text data - from wikipedia, pages on people'''
people = graphlab.SFrame('people_wiki.gl/')
people.head()


'''Explore the dataset and checkout the text it contains'''
'''Exploring the entry for president Obama'''
obama = people[people['name'] == 'Barack Obama']
obama
obama['text']


'''Exploring the entry for actor George Clooney'''
clooney = people[people['name'] == 'George Clooney']
clooney['text']


'''Get the word counts for Obama article'''
obama['word_count'] = graphlab.text_analytics.count_words(obama['text'])
print obama['word_count']


'''Sort the word counts for the Obama article'''
'''Turning dictonary of word counts into a table'''
obama_word_count_table = obama[['word_count']]
                            .stack('word_count', 
                                    new_column_name = ['word', 'count'])

obama_word_count_table.head()
# Sorting the word counts to show most common words at the top
obama_word_count_table.sort('count', ascending=False)


'''Compute TF-IDF for the corpus'''
people['word_count'] = graphlab.text_analytics.count_words(people['text'])
people.head()

tfidf = graphlab.text_analytics.tf_idf(people['word_count'])

# Earlier versions of GraphLab Create returned an SFrame rather than a single 
# SArray
# This notebook was created using Graphlab Create version 1.7.1
if graphlab.version <= '1.6.1':
    tfidf = tfidf['docs']

people['tfidf'] = tfidf


'''Examine the TF-IDF for the Obama article'''
obama = people[people['name'] == 'Barack Obama']
obama[['tfidf']].stack('tfidf', 
                        new_column_name=['word', 'tfidf'])
                .sort('tfidf', ascending=False)


'''Manually compute distances between a few people'''
clinton = people[people['name'] == 'Bill Clinton']
beckham = people[people['name'] == 'David Beckham']

# Is Obama closer to Clinton than to Beckham?
graphlab.distances.cosine(obama['tfidf'][0], clinton['tfidf'][0])
graphlab.distances.cosine(obama['tfidf'][0], beckham['tfidf'][0])


'''Build a nearest neighbor model for document retrieval'''
knn_model = graphlab.nearest_neighbors.create(people,
                                              features=['tfidf'],
                                              label='name')


'''Applying the nearest-neighbors model for retrieval'''
# Who is closest to Obama?
knn_model.query(obama)

# Other examples of document retrieval
swift = people[people['name'] == 'Taylor Swift']
knn_model.query(swift)

jolie = people[people['name'] == 'Angelina Jolie']
knn_model.query(jolie)

arnold = people[people['name'] == 'Arnold Schwarzenegger']
knn_model.query(arnold)


'''QUESTIONS'''
# 1. Top word count words for Elton John
elton = people[people['name'] == 'Elton John']
elton_word_count_table = elton[['word_count']]
                            .stack('word_count', 
                                    new_column_name = ['word', 'count'])
elton_word_count_table.sort('count', ascending=False)

# 2. Top TF-IDF words for Elton John
elton[['tfidf']].stack('tfidf', 
                        new_column_name=['word', 'tfidf'])
                .sort('tfidf', ascending=False)

# 3. The cosine distance between 'Elton John's and 'Victoria Beckham's articles 
# (represented with TF-IDF) falls within which range?
beckham = people[people['name'] == 'Victoria Beckham']
graphlab.distances.cosine(elton['tfidf'][0], beckham['tfidf'][0])

# 4. The cosine distance between 'Elton John's and 'Paul McCartney's articles 
# (represented with TF-IDF) falls within which range?

# 5. Who is closer to 'Elton John', 'Victoria Beckham' or 'Paul McCartney'?

# 6. Who is the nearest neighbor to 'Elton John' using raw word counts?
knn_model_word_count_cosine = graphlab.nearest_neighbors
                                .create(people, 
                                        features=['word_count'],
                                        distance='cosine', 
                                        label='name')
knn_model_word_count_cosine.query(elton)

# 7. Who is the nearest neighbor to 'Elton John' using TF-IDF?
knn_model_tfidf_cosine = graphlab.nearest_neighbors.create(people,
                                                           features=['tfidf'],
                                                           distance='cosine', 
                                                           label='name')
knn_model_tfidf_cosine.query(elton)

# 8. Who is the nearest neighbor to 'Victoria Beckham' using raw word counts?
knn_model_word_count_cosine.query(beckham)

# 9. Who is the nearest neighbor to 'Victoria Beckham' using TF-IDF?
knn_model_tfidf_cosine.query(beckham)