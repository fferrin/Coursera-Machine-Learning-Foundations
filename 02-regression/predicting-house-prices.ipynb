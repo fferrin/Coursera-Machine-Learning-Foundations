'''Fire up graphlab create'''

import graphlab

# Set product key on this computer. After running this cell, you will not need 
# to re-enter your product key. 
graphlab.product_key.set_product_key('product key')

# Limit number of worker processes. This preserves system memory, which prevents
hosted notebooks from crashing.
graphlab.set_runtime_config('GRAPHLAB_DEFAULT_NUM_PYLAMBDA_WORKERS', 4)


'''Load some house sales data'''
sales = graphlab.SFrame('home_data.gl/')


'''Exploring the data for housing sales'''
graphlab.canvas.set_target('ipynb')
sales.show(view="Scatter Plot", x="sqft_living", y="price")


'''Create a simple regression model of sqft_living to price'''
train_data, test_data = sales.random_split(0.8, seed=0)


'''Build the regression model using only sqft_living as a feature'''
sqft_model = graphlab.linear_regression.create(train_data, 
                                               target='price', 
                                               features=['sqft_living'], 
                                               validation_set=None)


'''Evaluate the simple model'''
print test_data['price'].mean()
print sqft_model.evaluate(test_data)


'''Let's show what our predictions look like'''
import matplotlib.pyplot as plt
%matplotlib inline

plt.plot(test_data['sqft_living'], test_data['price'], '.',
         test_data['sqft_living'], sqft_model.predict(test_data), '-')

sqft_model.get('coefficients')


'''Explore other features in the data'''
my_features = ['bedrooms', 'bathrooms', 'sqft_living', 'sqft_lot', 'floors', 
               'zipcode']
sales[my_features].show()
sales.show(view='BoxWhisker Plot', x='zipcode', y='price')


'''Build a regression model with more features'''
my_features_model = graphlab.linear_regression.create(train_data,
                                                      target='price',
                                                      features=my_features,
                                                      validation_set=None)


'''Comparing the results of the simple model with adding more features'''
print sqft_model.evaluate(test_data)
print my_features_model.evaluate(test_data)
# The RMSE goes down from $255,170 to $179,508 with more features.


'''Apply learned models to predict prices of 3 houses'''
house1 = sales[sales['id']=='5309101200']
print house1['price']
print sqft_model.predict(house1)
print my_features_model.predict(house1)


'''Prediction for a second, fancier house'''
house2 = sales[sales['id']=='1925069082']
print house2['price']
print sqft_model.predict(house2)
print my_features_model.predict(house2)


'''Last house, super fancy'''
bill_gates = {'bedrooms':[8], 
              'bathrooms':[25], 
              'sqft_living':[50000], 
              'sqft_lot':[225000],
              'floors':[4], 
              'zipcode':['98039'], 
              'condition':[10], 
              'grade':[10],
              'waterfront':[1],
              'view':[4],
              'sqft_above':[37500],
              'sqft_basement':[12500],
              'yr_built':[1994],
              'yr_renovated':[2010],
              'lat':[47.627606],
              'long':[-122.242054],
              'sqft_living15':[5000],
              'sqft_lot15':[40000]}

print my_features_model.predict(graphlab.SFrame(bill_gates))


'''QUESTIONS'''
# 1. We found the zip code with the highest average house price. What is the 
# average house price of that zip code?
print sales[sales['zipcode']=='98039']['price'].mean()


# 2. What fraction of the houses have living space between 2000 sq.ft. and 4000 
# sq.ft.?
sqft_filter = sales[2000 < sales['sqft_living']]
sqft_filter = sqft_filter[sqft_filter['sqft_living'] < 4000]
print len(sqft_filter['sqft_living'])*1.0/len(sales['sqft_living'])


# 3. What is the difference in RMSE between the model trained with my_features 
# and the one trained with advanced_features?
advanced_features = ['bedrooms', 'bathrooms', 'sqft_living', 'sqft_lot', 
                     'floors', 'zipcode', 
                     'condition', # condition of house               
                     'grade', # measure of quality of construction               
                     'waterfront', # waterfront property             
                     'view', # type of view              
                     'sqft_above', # square feet above ground                
                     'sqft_basement', # square feet in basement              
                     'yr_built', # the year built                
                     'yr_renovated', # the year renovated                
                     'lat', 'long', # the lat-long of the parcel             
                     'sqft_living15', # average sq.ft. of 15 nearest neighbors               
                     'sqft_lot15', # average lot size of 15 nearest neighbors]

advanced_model = graphlab.linear_regression.create(train_data,
                                                   target='price',
                                                   features=advanced_features,
                                                   validation_set=None)

print my_features_model.evaluate(test_data)['rmse'] - 
      advanced_model.evaluate(test_data)['rmse']