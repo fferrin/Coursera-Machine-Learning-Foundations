'''Fire up graphlab create'''

import graphlab

# Set product key on this computer. After running this cell, you will not need 
# to re-enter your product key. 
graphlab.product_key.set_product_key('product key')

# Limit number of worker processes. This preserves system memory, which prevents
hosted notebooks from crashing.
graphlab.set_runtime_config('GRAPHLAB_DEFAULT_NUM_PYLAMBDA_WORKERS', 4)


'''Load a common image analysis dataset'''
image_train = graphlab.SFrame('image_train_data/')
image_test = graphlab.SFrame('image_test_data/')


'''Exploring the image data'''
graphlab.canvas.set_target('ipynb')
image_train['image'].show()


'''Train a classifier on the raw image pixels'''
raw_pixel_model = graphlab.logistic_classifier
                    .create(image_train, 
                            target='label',
                            features=['image_array'])

'''Make a prediction with the simple model based on raw pixels'''
image_test[0:3]['image'].show()
image_test[0:3]['label']
raw_pixel_model.predict(image_test[0:3])


'''Evaluating raw pixel model on test data'''
raw_pixel_model.evaluate(image_test)


'''Can we improve the model using deep features'''
len(image_train)


'''Computing deep features for our images'''
# deep_learning_model = graphlab.load_model(
'http://s3.amazonaws.com/GraphLab-Datasets/deeplearning/imagenet_model_iter45')
# image_train['deep_features'] = deep_learning_model
                                    .extract_features(image_train)

image_train.head()


'''Given the deep features, let's train a classifier'''
deep_features_model = graphlab.logistic_classifier
                        .create(image_train,
                        features=['deep_features'],
                        target='label')


'''Apply the deep features model to first few images of test set'''
image_test[0:3]['image'].show()
deep_features_model.predict(image_test[0:3])


'''Compute test_data accuracy of deep_features_model'''
deep_features_model.evaluate(image_test)


'''QUESTIONS'''
# 1. What’s the least common category in the training data?
image_train['label'].sketch_summary()

# 2. Of the images below, which is the nearest ‘cat’ labeled image in the 
# training data to the the first image in the test data (image_test[0:1])?
train_automobile = image_train[image_train['label'] == 'automobile']
train_bird = image_train[image_train['label'] == 'bird']
train_cat = image_train[image_train['label'] == 'cat']
train_dog = image_train[image_train['label'] == 'dog']

knn_cat_model = graphlab.nearest_neighbors.create(train_cat, 
                                                  features=['deep_features'],
                                                  label='id')
knn_dog_model = graphlab.nearest_neighbors.create(train_dog, 
                                                  features=['deep_features'],
                                                  label='id')
knn_bird_model = graphlab.nearest_neighbors.create(train_bird, 
                                                   features=['deep_features'],
                                                   label='id')
knn_automobile_model = graphlab.nearest_neighbors
                            .create(train_automobile, 
                                    features=['deep_features'],
                                    label='id')

knn_cat_model.query(image_test[0:1])
print image_train[image_train['id'] == 16289]['image'].show()

# 3. Of the images below, which is the nearest ‘dog’ labeled image in the 
# training data to the the first image in the test data (image_test[0:1])?
knn_dog_model.query(image_test[0:1])
print image_train[image_train['id'] == 16976]['image'].show()

# 4. For the first image in the test data, in what range is the mean distance 
# between this image and its 5 nearest neighbors that were labeled ‘cat’ in the 
# training data?
knn_cat_model.query(image_test[0:1])['distance'].mean()

# 5. For the first image in the test data, in what range is the mean distance 
# between this image and its 5 nearest neighbors that were labeled ‘dog’ in the 
# training data?
knn_dog_model.query(image_test[0:1])['distance'].mean()

# 6. On average, is the first image in the test data closer to its 5 nearest 
# neighbors in the ‘cat’ data or in the ‘dog’ data?

# 7. In what range is the accuracy of the 1-nearest neighbor classifier at 
# classifying ‘dog’ images from the test set?
image_test_automobile = image_test[image_test['label'] == 'automobile']
image_test_bird = image_test[image_test['label'] == 'bird']
image_test_cat = image_test[image_test['label'] == 'cat']
image_test_dog = image_test[image_test['label'] == 'dog']

dog_dist = graphlab.SFrame()
dog_dist.add_columns(graphlab.SFrame({'dog-automobile' : 
                knn_automobile_model.query(image_test_dog, k=1)['distance']}))
dog_dist.add_columns(graphlab.SFrame({'dog-bird' : 
                knn_bird_model.query(image_test_dog, k=1)['distance']}))
dog_dist.add_columns(graphlab.SFrame({'dog-cat' : 
                knn_cat_model.query(image_test_dog, k=1)['distance']}))
dog_dist.add_columns(graphlab.SFrame({'dog-dog' : 
                knn_dog_model.query(image_test_dog, k=1)['distance']}))

def is_dog_correct(row):
    dog = row['dog-dog']
    for label in row:
        if row[label] < dog:
            return 0
    return 1

dog_dist.apply(is_dog_correct).sum()    